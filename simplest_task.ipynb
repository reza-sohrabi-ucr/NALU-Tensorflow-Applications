{
 "cells": [
  {
   "cell_type": "code",
   "execution_count": 1,
   "metadata": {},
   "outputs": [
    {
     "name": "stderr",
     "output_type": "stream",
     "text": [
      "/usr/local/lib/python3.5/dist-packages/h5py/__init__.py:36: FutureWarning: Conversion of the second argument of issubdtype from `float` to `np.floating` is deprecated. In future, it will be treated as `np.float64 == np.dtype(float).type`.\n",
      "  from ._conv import register_converters as _register_converters\n"
     ]
    }
   ],
   "source": [
    "import numpy as np\n",
    "import tensorflow as tf\n",
    "from NALU import NALU"
   ]
  },
  {
   "cell_type": "code",
   "execution_count": 2,
   "metadata": {},
   "outputs": [],
   "source": [
    "train_size = 10000\n",
    "test_size = 1000\n",
    "lr = 0.1\n",
    "x_tr = np.random.rand(train_size, 2)*5\n",
    "x_tst = 5 + np.random.rand(test_size, 2)*5\n",
    "y_tr = x_tr.sum(1, keepdims=True)\n",
    "y_tst = x_tst.sum(1, keepdims=True)"
   ]
  },
  {
   "cell_type": "code",
   "execution_count": 3,
   "metadata": {},
   "outputs": [],
   "source": [
    "tf.reset_default_graph()\n",
    "X = tf.placeholder(tf.float32, shape=(None, 2))\n",
    "y = tf.placeholder(tf.float32, shape=(None, 1))\n",
    "y_pred = NALU(2, 1, name = 'nalu')(X)\n",
    "loss = tf.losses.mean_squared_error(y, y_pred)\n",
    "optim = tf.train.RMSPropOptimizer(lr).minimize(loss)"
   ]
  },
  {
   "cell_type": "code",
   "execution_count": 4,
   "metadata": {},
   "outputs": [
    {
     "name": "stdout",
     "output_type": "stream",
     "text": [
      "Epoch: 0 loss: 23.576784133911133\n",
      "Epoch: 10 loss: 5.664342880249023\n",
      "Epoch: 20 loss: 2.3301279544830322\n",
      "Epoch: 30 loss: 0.7819363474845886\n",
      "Epoch: 40 loss: 0.3641888201236725\n",
      "Epoch: 50 loss: 0.1925293356180191\n",
      "Epoch: 60 loss: 0.09686878323554993\n",
      "Epoch: 70 loss: 0.05198545381426811\n",
      "Epoch: 80 loss: 0.029626082628965378\n",
      "Epoch: 90 loss: 0.01741959899663925\n",
      "Epoch: 100 loss: 0.010430704802274704\n",
      "Epoch: 110 loss: 0.006322233006358147\n",
      "Epoch: 120 loss: 0.003867687191814184\n",
      "Epoch: 130 loss: 0.0023848428390920162\n",
      "Epoch: 140 loss: 0.0014812853187322617\n",
      "Epoch: 150 loss: 0.0009268847643397748\n",
      "Epoch: 160 loss: 0.0005845101550221443\n",
      "Epoch: 170 loss: 0.00037174849421717227\n",
      "Epoch: 180 loss: 0.00023866309493314475\n",
      "Epoch: 190 loss: 0.0001548149302834645\n",
      "Epoch: 200 loss: 0.00010158126679016277\n",
      "Epoch: 210 loss: 6.750692409696057e-05\n",
      "Epoch: 220 loss: 4.5533797674579546e-05\n",
      "Epoch: 230 loss: 3.1302799470722675e-05\n",
      "Epoch: 240 loss: 2.2114592866273597e-05\n",
      "Epoch: 250 loss: 1.6235433577094227e-05\n",
      "Epoch: 260 loss: 1.2497339412220754e-05\n",
      "Epoch: 270 loss: 1.0090971045428887e-05\n",
      "Epoch: 280 loss: 8.487853847327642e-06\n",
      "Epoch: 290 loss: 7.3637424975459e-06\n",
      "Test loss: 8.50147262099199e-06\n"
     ]
    }
   ],
   "source": [
    "epochs = 300\n",
    "with tf.Session() as sess:\n",
    "        \n",
    "    sess.run(tf.global_variables_initializer())\n",
    "        \n",
    "    for epoch in range(epochs):\n",
    "        sess.run(optim, feed_dict={X:x_tr,y:y_tr})\n",
    "        if epoch % 10 == 0:\n",
    "            l = sess.run(loss,feed_dict={X:x_tr,y:y_tr})\n",
    "            print(\"Epoch: {} loss: {}\".format(epoch, l))\n",
    "                \n",
    "    test_preds, test_loss = sess.run([y_pred,loss],feed_dict={X:x_tst,y:y_tst})\n",
    "    print(\"Test loss: {}\".format(test_loss))"
   ]
  },
  {
   "cell_type": "code",
   "execution_count": null,
   "metadata": {},
   "outputs": [],
   "source": []
  }
 ],
 "metadata": {
  "kernelspec": {
   "display_name": "Python 3",
   "language": "python",
   "name": "python3"
  },
  "language_info": {
   "codemirror_mode": {
    "name": "ipython",
    "version": 3
   },
   "file_extension": ".py",
   "mimetype": "text/x-python",
   "name": "python",
   "nbconvert_exporter": "python",
   "pygments_lexer": "ipython3",
   "version": "3.5.2"
  }
 },
 "nbformat": 4,
 "nbformat_minor": 2
}
